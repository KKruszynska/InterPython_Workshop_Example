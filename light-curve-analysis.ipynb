{
 "cells": [
  {
   "cell_type": "markdown",
   "id": "d3ae6891",
   "metadata": {},
   "source": [
    "Software for managing and analysing light curves of variable stars, coming from different surveys."
   ]
  },
  {
   "cell_type": "code",
   "execution_count": 48,
   "id": "34ab0618",
   "metadata": {},
   "outputs": [],
   "source": [
    "# Import libraries\n",
    "import numpy as np\n",
    "import pandas as pd\n",
    "import os\n",
    "import matplotlib.pyplot as plt\n",
    "import astropy.units as u\n",
    "from astropy.timeseries import LombScargle"
   ]
  },
  {
   "cell_type": "code",
   "execution_count": 2,
   "id": "083bc50e",
   "metadata": {},
   "outputs": [],
   "source": [
    "plot_filter_labels = ['u', 'g', 'r', 'i', 'z', 'y']\n",
    "plot_filter_colors = {'u': '#56b4e9', 'g': '#008060', 'r': '#ff4000',\n",
    "                      'i': '#850000', 'z': '#6600cc', 'y': '#000000'}\n",
    "plot_filter_symbols = {'u': 'o', 'g': '^', 'r': 'v', 'i': 's', 'z': '*', 'y': 'p'}"
   ]
  },
  {
   "cell_type": "code",
   "execution_count": 6,
   "id": "6515f7c6",
   "metadata": {},
   "outputs": [],
   "source": [
    "# Read LC datasets\n",
    "lcDatasets = {}\n",
    "lcDatasets['lsst'] = pd.read_pickle(os.path.join('data','lsst_RRLyr.pkl'))\n",
    "lcDatasets['kepler'] = pd.read_csv(os.path.join('data','kepler_RRLyr.csv'))"
   ]
  },
  {
   "cell_type": "code",
   "execution_count": 7,
   "id": "9243a411",
   "metadata": {},
   "outputs": [
    {
     "data": {
      "text/html": [
       "<div>\n",
       "<style scoped>\n",
       "    .dataframe tbody tr th:only-of-type {\n",
       "        vertical-align: middle;\n",
       "    }\n",
       "\n",
       "    .dataframe tbody tr th {\n",
       "        vertical-align: top;\n",
       "    }\n",
       "\n",
       "    .dataframe thead th {\n",
       "        text-align: right;\n",
       "    }\n",
       "</style>\n",
       "<table border=\"1\" class=\"dataframe\">\n",
       "  <thead>\n",
       "    <tr style=\"text-align: right;\">\n",
       "      <th></th>\n",
       "      <th>band</th>\n",
       "      <th>ccdVisitId</th>\n",
       "      <th>coord_ra</th>\n",
       "      <th>coord_dec</th>\n",
       "      <th>objectId</th>\n",
       "      <th>psfFlux</th>\n",
       "      <th>psfFluxErr</th>\n",
       "      <th>psfMag</th>\n",
       "      <th>ccdVisitId2</th>\n",
       "      <th>band2</th>\n",
       "      <th>expMidptMJD</th>\n",
       "      <th>zeroPoint</th>\n",
       "    </tr>\n",
       "  </thead>\n",
       "  <tbody>\n",
       "    <tr>\n",
       "      <th>0</th>\n",
       "      <td>y</td>\n",
       "      <td>1032263018</td>\n",
       "      <td>62.462569</td>\n",
       "      <td>-44.11336</td>\n",
       "      <td>1251384969897480052</td>\n",
       "      <td>-515.183603</td>\n",
       "      <td>1697.218490</td>\n",
       "      <td>NaN</td>\n",
       "      <td>1032263018</td>\n",
       "      <td>y</td>\n",
       "      <td>61100.069706</td>\n",
       "      <td>30.602301</td>\n",
       "    </tr>\n",
       "    <tr>\n",
       "      <th>1</th>\n",
       "      <td>y</td>\n",
       "      <td>1033987172</td>\n",
       "      <td>62.462569</td>\n",
       "      <td>-44.11336</td>\n",
       "      <td>1251384969897480052</td>\n",
       "      <td>3151.738459</td>\n",
       "      <td>1686.955775</td>\n",
       "      <td>22.653625</td>\n",
       "      <td>1033987172</td>\n",
       "      <td>y</td>\n",
       "      <td>61102.068464</td>\n",
       "      <td>30.606100</td>\n",
       "    </tr>\n",
       "    <tr>\n",
       "      <th>2</th>\n",
       "      <td>u</td>\n",
       "      <td>675163080</td>\n",
       "      <td>62.462569</td>\n",
       "      <td>-44.11336</td>\n",
       "      <td>1251384969897480052</td>\n",
       "      <td>183.449123</td>\n",
       "      <td>209.242045</td>\n",
       "      <td>25.741211</td>\n",
       "      <td>675163080</td>\n",
       "      <td>u</td>\n",
       "      <td>60582.247144</td>\n",
       "      <td>30.469101</td>\n",
       "    </tr>\n",
       "    <tr>\n",
       "      <th>3</th>\n",
       "      <td>y</td>\n",
       "      <td>443055067</td>\n",
       "      <td>62.462569</td>\n",
       "      <td>-44.11336</td>\n",
       "      <td>1251384969897480052</td>\n",
       "      <td>-704.848327</td>\n",
       "      <td>1624.400086</td>\n",
       "      <td>NaN</td>\n",
       "      <td>443055067</td>\n",
       "      <td>y</td>\n",
       "      <td>60215.203585</td>\n",
       "      <td>30.612801</td>\n",
       "    </tr>\n",
       "    <tr>\n",
       "      <th>4</th>\n",
       "      <td>u</td>\n",
       "      <td>466722002</td>\n",
       "      <td>62.462569</td>\n",
       "      <td>-44.11336</td>\n",
       "      <td>1251384969897480052</td>\n",
       "      <td>382.472233</td>\n",
       "      <td>278.926670</td>\n",
       "      <td>24.943500</td>\n",
       "      <td>466722002</td>\n",
       "      <td>u</td>\n",
       "      <td>60261.078221</td>\n",
       "      <td>30.461201</td>\n",
       "    </tr>\n",
       "  </tbody>\n",
       "</table>\n",
       "</div>"
      ],
      "text/plain": [
       "  band  ccdVisitId   coord_ra  coord_dec             objectId      psfFlux  \\\n",
       "0    y  1032263018  62.462569  -44.11336  1251384969897480052  -515.183603   \n",
       "1    y  1033987172  62.462569  -44.11336  1251384969897480052  3151.738459   \n",
       "2    u   675163080  62.462569  -44.11336  1251384969897480052   183.449123   \n",
       "3    y   443055067  62.462569  -44.11336  1251384969897480052  -704.848327   \n",
       "4    u   466722002  62.462569  -44.11336  1251384969897480052   382.472233   \n",
       "\n",
       "    psfFluxErr     psfMag  ccdVisitId2 band2   expMidptMJD  zeroPoint  \n",
       "0  1697.218490        NaN   1032263018     y  61100.069706  30.602301  \n",
       "1  1686.955775  22.653625   1033987172     y  61102.068464  30.606100  \n",
       "2   209.242045  25.741211    675163080     u  60582.247144  30.469101  \n",
       "3  1624.400086        NaN    443055067     y  60215.203585  30.612801  \n",
       "4   278.926670  24.943500    466722002     u  60261.078221  30.461201  "
      ]
     },
     "execution_count": 7,
     "metadata": {},
     "output_type": "execute_result"
    }
   ],
   "source": [
    "# Inspect datasets\n",
    "lcDatasets['lsst'].head()"
   ]
  },
  {
   "cell_type": "code",
   "execution_count": 9,
   "id": "04e0c214",
   "metadata": {
    "scrolled": true
   },
   "outputs": [
    {
     "name": "stdout",
     "output_type": "stream",
     "text": [
      "<class 'pandas.core.frame.DataFrame'>\n",
      "RangeIndex: 11177 entries, 0 to 11176\n",
      "Data columns (total 12 columns):\n",
      " #   Column       Non-Null Count  Dtype  \n",
      "---  ------       --------------  -----  \n",
      " 0   band         11177 non-null  object \n",
      " 1   ccdVisitId   11177 non-null  int64  \n",
      " 2   coord_ra     11177 non-null  float64\n",
      " 3   coord_dec    11177 non-null  float64\n",
      " 4   objectId     11177 non-null  int64  \n",
      " 5   psfFlux      11177 non-null  float64\n",
      " 6   psfFluxErr   11177 non-null  float64\n",
      " 7   psfMag       10944 non-null  float64\n",
      " 8   ccdVisitId2  11177 non-null  int64  \n",
      " 9   band2        11177 non-null  object \n",
      " 10  expMidptMJD  11177 non-null  float64\n",
      " 11  zeroPoint    11177 non-null  float32\n",
      "dtypes: float32(1), float64(6), int64(3), object(2)\n",
      "memory usage: 1004.3+ KB\n"
     ]
    }
   ],
   "source": [
    "lcDatasets['lsst'].info()"
   ]
  },
  {
   "cell_type": "code",
   "execution_count": 8,
   "id": "9a4b48ce",
   "metadata": {},
   "outputs": [
    {
     "data": {
      "text/html": [
       "<div>\n",
       "<style scoped>\n",
       "    .dataframe tbody tr th:only-of-type {\n",
       "        vertical-align: middle;\n",
       "    }\n",
       "\n",
       "    .dataframe tbody tr th {\n",
       "        vertical-align: top;\n",
       "    }\n",
       "\n",
       "    .dataframe thead th {\n",
       "        text-align: right;\n",
       "    }\n",
       "</style>\n",
       "<table border=\"1\" class=\"dataframe\">\n",
       "  <thead>\n",
       "    <tr style=\"text-align: right;\">\n",
       "      <th></th>\n",
       "      <th>Unnamed: 0</th>\n",
       "      <th>0</th>\n",
       "      <th>1</th>\n",
       "      <th>2</th>\n",
       "      <th>3</th>\n",
       "      <th>4</th>\n",
       "      <th>5</th>\n",
       "      <th>6</th>\n",
       "      <th>7</th>\n",
       "      <th>8</th>\n",
       "      <th>...</th>\n",
       "      <th>14</th>\n",
       "      <th>15</th>\n",
       "      <th>16</th>\n",
       "      <th>17</th>\n",
       "      <th>18</th>\n",
       "      <th>19</th>\n",
       "      <th>20</th>\n",
       "      <th>21</th>\n",
       "      <th>22</th>\n",
       "      <th>23</th>\n",
       "    </tr>\n",
       "  </thead>\n",
       "  <tbody>\n",
       "    <tr>\n",
       "      <th>0</th>\n",
       "      <td>0</td>\n",
       "      <td>0.854429</td>\n",
       "      <td>0.842687</td>\n",
       "      <td>0.854582</td>\n",
       "      <td>0.811356</td>\n",
       "      <td>0.900239</td>\n",
       "      <td>1.589323</td>\n",
       "      <td>1.624727</td>\n",
       "      <td>1.394168</td>\n",
       "      <td>1.256477</td>\n",
       "      <td>...</td>\n",
       "      <td>0.829822</td>\n",
       "      <td>0.829018</td>\n",
       "      <td>0.841787</td>\n",
       "      <td>0.833914</td>\n",
       "      <td>0.975753</td>\n",
       "      <td>1.654578</td>\n",
       "      <td>1.535743</td>\n",
       "      <td>1.348626</td>\n",
       "      <td>1.227703</td>\n",
       "      <td>1.131386</td>\n",
       "    </tr>\n",
       "    <tr>\n",
       "      <th>1</th>\n",
       "      <td>1</td>\n",
       "      <td>1.214323</td>\n",
       "      <td>1.150384</td>\n",
       "      <td>1.103644</td>\n",
       "      <td>1.053931</td>\n",
       "      <td>1.002136</td>\n",
       "      <td>0.934727</td>\n",
       "      <td>0.883343</td>\n",
       "      <td>0.851310</td>\n",
       "      <td>0.842629</td>\n",
       "      <td>...</td>\n",
       "      <td>1.162523</td>\n",
       "      <td>1.123232</td>\n",
       "      <td>1.084385</td>\n",
       "      <td>1.032743</td>\n",
       "      <td>0.973835</td>\n",
       "      <td>0.915502</td>\n",
       "      <td>0.877194</td>\n",
       "      <td>0.849330</td>\n",
       "      <td>0.855227</td>\n",
       "      <td>0.844739</td>\n",
       "    </tr>\n",
       "    <tr>\n",
       "      <th>2</th>\n",
       "      <td>2</td>\n",
       "      <td>1.484069</td>\n",
       "      <td>1.364248</td>\n",
       "      <td>1.204081</td>\n",
       "      <td>1.103599</td>\n",
       "      <td>1.023989</td>\n",
       "      <td>0.953498</td>\n",
       "      <td>0.879883</td>\n",
       "      <td>0.822292</td>\n",
       "      <td>0.786437</td>\n",
       "      <td>...</td>\n",
       "      <td>1.634782</td>\n",
       "      <td>1.416098</td>\n",
       "      <td>1.237153</td>\n",
       "      <td>1.068694</td>\n",
       "      <td>0.974467</td>\n",
       "      <td>0.897048</td>\n",
       "      <td>0.841755</td>\n",
       "      <td>0.812668</td>\n",
       "      <td>0.798924</td>\n",
       "      <td>0.807088</td>\n",
       "    </tr>\n",
       "    <tr>\n",
       "      <th>3</th>\n",
       "      <td>3</td>\n",
       "      <td>1.030531</td>\n",
       "      <td>0.979492</td>\n",
       "      <td>0.945262</td>\n",
       "      <td>0.928918</td>\n",
       "      <td>0.930861</td>\n",
       "      <td>0.915334</td>\n",
       "      <td>0.857660</td>\n",
       "      <td>0.854018</td>\n",
       "      <td>1.350099</td>\n",
       "      <td>...</td>\n",
       "      <td>1.022408</td>\n",
       "      <td>0.983098</td>\n",
       "      <td>0.959695</td>\n",
       "      <td>0.955523</td>\n",
       "      <td>0.960613</td>\n",
       "      <td>0.921418</td>\n",
       "      <td>0.843822</td>\n",
       "      <td>0.838387</td>\n",
       "      <td>1.308091</td>\n",
       "      <td>1.455156</td>\n",
       "    </tr>\n",
       "    <tr>\n",
       "      <th>4</th>\n",
       "      <td>4</td>\n",
       "      <td>1.075254</td>\n",
       "      <td>1.011463</td>\n",
       "      <td>0.960214</td>\n",
       "      <td>0.918756</td>\n",
       "      <td>0.896586</td>\n",
       "      <td>0.859232</td>\n",
       "      <td>0.803375</td>\n",
       "      <td>0.913755</td>\n",
       "      <td>1.295979</td>\n",
       "      <td>...</td>\n",
       "      <td>1.026719</td>\n",
       "      <td>0.965212</td>\n",
       "      <td>0.919482</td>\n",
       "      <td>0.888925</td>\n",
       "      <td>0.873836</td>\n",
       "      <td>0.871134</td>\n",
       "      <td>0.810573</td>\n",
       "      <td>0.979131</td>\n",
       "      <td>1.343868</td>\n",
       "      <td>1.538732</td>\n",
       "    </tr>\n",
       "  </tbody>\n",
       "</table>\n",
       "<p>5 rows × 25 columns</p>\n",
       "</div>"
      ],
      "text/plain": [
       "   Unnamed: 0         0         1         2         3         4         5  \\\n",
       "0           0  0.854429  0.842687  0.854582  0.811356  0.900239  1.589323   \n",
       "1           1  1.214323  1.150384  1.103644  1.053931  1.002136  0.934727   \n",
       "2           2  1.484069  1.364248  1.204081  1.103599  1.023989  0.953498   \n",
       "3           3  1.030531  0.979492  0.945262  0.928918  0.930861  0.915334   \n",
       "4           4  1.075254  1.011463  0.960214  0.918756  0.896586  0.859232   \n",
       "\n",
       "          6         7         8  ...        14        15        16        17  \\\n",
       "0  1.624727  1.394168  1.256477  ...  0.829822  0.829018  0.841787  0.833914   \n",
       "1  0.883343  0.851310  0.842629  ...  1.162523  1.123232  1.084385  1.032743   \n",
       "2  0.879883  0.822292  0.786437  ...  1.634782  1.416098  1.237153  1.068694   \n",
       "3  0.857660  0.854018  1.350099  ...  1.022408  0.983098  0.959695  0.955523   \n",
       "4  0.803375  0.913755  1.295979  ...  1.026719  0.965212  0.919482  0.888925   \n",
       "\n",
       "         18        19        20        21        22        23  \n",
       "0  0.975753  1.654578  1.535743  1.348626  1.227703  1.131386  \n",
       "1  0.973835  0.915502  0.877194  0.849330  0.855227  0.844739  \n",
       "2  0.974467  0.897048  0.841755  0.812668  0.798924  0.807088  \n",
       "3  0.960613  0.921418  0.843822  0.838387  1.308091  1.455156  \n",
       "4  0.873836  0.871134  0.810573  0.979131  1.343868  1.538732  \n",
       "\n",
       "[5 rows x 25 columns]"
      ]
     },
     "execution_count": 8,
     "metadata": {},
     "output_type": "execute_result"
    }
   ],
   "source": [
    "lcDatasets['kepler'].head()"
   ]
  },
  {
   "cell_type": "code",
   "execution_count": 10,
   "id": "c28c2c8a",
   "metadata": {
    "scrolled": true
   },
   "outputs": [
    {
     "name": "stdout",
     "output_type": "stream",
     "text": [
      "<class 'pandas.core.frame.DataFrame'>\n",
      "RangeIndex: 15 entries, 0 to 14\n",
      "Data columns (total 25 columns):\n",
      " #   Column      Non-Null Count  Dtype  \n",
      "---  ------      --------------  -----  \n",
      " 0   Unnamed: 0  15 non-null     int64  \n",
      " 1   0           15 non-null     float64\n",
      " 2   1           15 non-null     float64\n",
      " 3   2           15 non-null     float64\n",
      " 4   3           15 non-null     float64\n",
      " 5   4           15 non-null     float64\n",
      " 6   5           15 non-null     float64\n",
      " 7   6           15 non-null     float64\n",
      " 8   7           15 non-null     float64\n",
      " 9   8           15 non-null     float64\n",
      " 10  9           15 non-null     float64\n",
      " 11  10          15 non-null     float64\n",
      " 12  11          15 non-null     float64\n",
      " 13  12          15 non-null     float64\n",
      " 14  13          15 non-null     float64\n",
      " 15  14          15 non-null     float64\n",
      " 16  15          15 non-null     float64\n",
      " 17  16          15 non-null     float64\n",
      " 18  17          15 non-null     float64\n",
      " 19  18          15 non-null     float64\n",
      " 20  19          15 non-null     float64\n",
      " 21  20          15 non-null     float64\n",
      " 22  21          15 non-null     float64\n",
      " 23  22          15 non-null     float64\n",
      " 24  23          15 non-null     float64\n",
      "dtypes: float64(24), int64(1)\n",
      "memory usage: 3.1 KB\n"
     ]
    }
   ],
   "source": [
    "lcDatasets['kepler'].info()"
   ]
  },
  {
   "cell_type": "markdown",
   "id": "35ad3616",
   "metadata": {},
   "source": [
    "### Test period searching and visualization for LSST"
   ]
  },
  {
   "cell_type": "code",
   "execution_count": 12,
   "id": "8c605c20",
   "metadata": {},
   "outputs": [
    {
     "data": {
      "text/plain": [
       "25"
      ]
     },
     "execution_count": 12,
     "metadata": {},
     "output_type": "execute_result"
    }
   ],
   "source": [
    "len(lcDatasets['lsst']['objectId'].unique())"
   ]
  },
  {
   "cell_type": "code",
   "execution_count": 13,
   "id": "e351cbac",
   "metadata": {},
   "outputs": [],
   "source": [
    "LC = lcDatasets['lsst']['objectId'].unique()[7]\n",
    "LC = lcDatasets['lsst'][lcDatasets['lsst']['objectId']==LC]"
   ]
  },
  {
   "cell_type": "code",
   "execution_count": 14,
   "id": "e19ddca3",
   "metadata": {},
   "outputs": [],
   "source": [
    "bands = {}\n",
    "for filter in plot_filter_labels:\n",
    "    bands[filter] = (LC['band'] == filter)"
   ]
  },
  {
   "cell_type": "code",
   "execution_count": 15,
   "id": "8f504a1b",
   "metadata": {},
   "outputs": [
    {
     "data": {
      "text/plain": [
       "421"
      ]
     },
     "execution_count": 15,
     "metadata": {},
     "output_type": "execute_result"
    }
   ],
   "source": [
    "len(LC)"
   ]
  },
  {
   "cell_type": "code",
   "execution_count": 30,
   "id": "75ea20e0",
   "metadata": {},
   "outputs": [
    {
     "data": {
      "image/png": "[encoded data removed]",
      "text/plain": [
       "<Figure size 432x288 with 1 Axes>"
      ]
     },
     "metadata": {
      "needs_background": "light"
     },
     "output_type": "display_data"
    }
   ],
   "source": [
    "b = 'z'\n",
    "plt.plot(LC[bands[b]]['expMidptMJD'].to_numpy(), \n",
    "         LC[bands[b]]['psfMag'].to_numpy(),'k.', ms=10)\n",
    "plt.minorticks_on()\n",
    "plt.xlabel('MJD (days)')\n",
    "plt.ylabel(b)\n",
    "plt.show()"
   ]
  },
  {
   "cell_type": "code",
   "execution_count": 34,
   "id": "53d16d78",
   "metadata": {},
   "outputs": [],
   "source": [
    "mjd_days = {}\n",
    "mags = {}\n",
    "for filter in plot_filter_labels:\n",
    "    mjd_days[filter] = np.array(LC[bands[filter]]['expMidptMJD']) * u.day\n",
    "    mags[filter] = np.array(LC[bands[filter]]['psfMag'])"
   ]
  },
  {
   "cell_type": "code",
   "execution_count": 35,
   "id": "0d053513",
   "metadata": {},
   "outputs": [],
   "source": [
    "min_period = 0.2 * u.day\n",
    "max_period = 1 * u.day\n",
    "\n",
    "min_freq_search = 1.0 / max_period\n",
    "max_freq_search = 1.0 / min_period"
   ]
  },
  {
   "cell_type": "code",
   "execution_count": 36,
   "id": "ca255ff4",
   "metadata": {},
   "outputs": [],
   "source": [
    "frequency = {}\n",
    "power = {}\n",
    "for filter in plot_filter_labels:\n",
    "    frequency[filter], power[filter] =\\\n",
    "        LombScargle(mjd_days[filter], mags[filter]).autopower(minimum_frequency=min_freq_search,\n",
    "                                                              maximum_frequency=max_freq_search)"
   ]
  },
  {
   "cell_type": "code",
   "execution_count": 37,
   "id": "4e250263",
   "metadata": {},
   "outputs": [
    {
     "name": "stdout",
     "output_type": "stream",
     "text": [
      "Mean frequency: 2.178158712764198\n",
      "Mean period: 0.45910336750940767  days\n",
      "\n",
      "ugrizy frequency results:\n",
      " [2.17807944 2.17816158 2.17813256 2.17819998 2.178213   2.17816572]\n"
     ]
    }
   ],
   "source": [
    "all_peak_freqs = []\n",
    "\n",
    "for filter in plot_filter_labels:\n",
    "    # find the index with maximum power (= peakbin)\n",
    "    peakbin = np.argmax(power[filter])\n",
    "\n",
    "    # Store the frequency corresponding to the peak power in each filter (band)\n",
    "    all_peak_freqs.append(frequency[filter][peakbin].value)\n",
    "\n",
    "# Convert the frequencies from a list to and array:\n",
    "all_peak_freqs = np.array(all_peak_freqs)\n",
    "\n",
    "# Calculate the mean of the \"best-fit\" frequencies:\n",
    "mean_peak_freq = np.mean(all_peak_freqs)\n",
    "\n",
    "print('Mean frequency:', mean_peak_freq)\n",
    "print('Mean period:', 1.0/mean_peak_freq, ' days')\n",
    "print('\\nugrizy frequency results:\\n', all_peak_freqs)\n"
   ]
  },
  {
   "cell_type": "code",
   "execution_count": 38,
   "id": "1239f929",
   "metadata": {},
   "outputs": [
    {
     "data": {
      "image/png": "[encoded data removed]",
      "text/plain": [
       "<Figure size 864x504 with 2 Axes>"
      ]
     },
     "metadata": {
      "needs_background": "light"
     },
     "output_type": "display_data"
    }
   ],
   "source": [
    "fig, ax = plt.subplots(1, 2, figsize=(12, 7))\n",
    "\n",
    "plt.sca(ax[0])  # set the first axis as current\n",
    "\n",
    "plt.plot(frequency['r'], power['r'])\n",
    "plt.vlines(mean_peak_freq, 0, 1, linestyle='--', color='red')\n",
    "plt.minorticks_on()\n",
    "plt.xlabel('frequency (1/d)')\n",
    "plt.ylabel('power')\n",
    "\n",
    "plt.sca(ax[1])  # set the second axis as current\n",
    "plt.plot(1 / frequency['r'], power['r'])\n",
    "plt.vlines(1/mean_peak_freq, 0, 1, linestyle='--', color='red')\n",
    "plt.minorticks_on()\n",
    "plt.xlabel('period (d)')\n",
    "plt.ylabel('power')\n",
    "plt.show()"
   ]
  },
  {
   "cell_type": "code",
   "execution_count": 39,
   "id": "52ee7af2",
   "metadata": {},
   "outputs": [],
   "source": [
    "best_period = 1/2.1781"
   ]
  },
  {
   "cell_type": "code",
   "execution_count": 40,
   "id": "01952b5b",
   "metadata": {},
   "outputs": [],
   "source": [
    "mjd_norm = {}\n",
    "phase = {}\n",
    "\n",
    "# Number of elapsed periods since the first measurement:\n",
    "t0 = np.min(mjd_days['g'].value)\n",
    "\n",
    "for filter in plot_filter_labels:\n",
    "    mjd_norm[filter] = (mjd_days[filter].value - t0) / best_period\n",
    "\n",
    "    # Calculate phase by using the modulus function:\n",
    "    phase[filter] = np.mod(mjd_norm[filter], 1.0)"
   ]
  },
  {
   "cell_type": "code",
   "execution_count": 41,
   "id": "f1b8e2fb",
   "metadata": {},
   "outputs": [
    {
     "data": {
      "image/png": "[encoded data removed]",
      "text/plain": [
       "<Figure size 504x720 with 1 Axes>"
      ]
     },
     "metadata": {
      "needs_background": "light"
     },
     "output_type": "display_data"
    }
   ],
   "source": [
    "fig = plt.figure(figsize=(7, 10))     # create a matplotlib.pyplot figure\n",
    "\n",
    "i = 0\n",
    "\n",
    "for filter in plot_filter_labels:\n",
    "    plt.plot(phase[filter], mags[filter]-np.mean(mags[filter]) + i,\n",
    "             plot_filter_symbols[filter],\n",
    "             color=plot_filter_colors[filter], label=filter)\n",
    "    plt.hlines(i, 0, 1, linestyle=':', color='Gray')\n",
    "    i += 1\n",
    "\n",
    "plt.gca().invert_yaxis()\n",
    "plt.legend()\n",
    "plt.xlabel('phase')\n",
    "plt.ylabel('mag - mean (plus integer offset)')\n",
    "plt.minorticks_on()\n",
    "plt.show()"
   ]
  },
  {
   "cell_type": "markdown",
   "id": "d5c58f6c",
   "metadata": {},
   "source": [
    "### Test period searching and visualization for Kepler"
   ]
  },
  {
   "cell_type": "code",
   "execution_count": 42,
   "id": "293f7ccd",
   "metadata": {},
   "outputs": [
    {
     "data": {
      "text/plain": [
       "15"
      ]
     },
     "execution_count": 42,
     "metadata": {},
     "output_type": "execute_result"
    }
   ],
   "source": [
    "len(lcDatasets['kepler'])"
   ]
  },
  {
   "cell_type": "code",
   "execution_count": 44,
   "id": "18149ef5",
   "metadata": {},
   "outputs": [],
   "source": [
    "LC = lcDatasets['kepler'].iloc[0]"
   ]
  },
  {
   "cell_type": "code",
   "execution_count": 45,
   "id": "16096997",
   "metadata": {},
   "outputs": [
    {
     "data": {
      "text/plain": [
       "25"
      ]
     },
     "execution_count": 45,
     "metadata": {},
     "output_type": "execute_result"
    }
   ],
   "source": [
    "len(LC)"
   ]
  },
  {
   "cell_type": "code",
   "execution_count": 47,
   "id": "41a6c21e",
   "metadata": {},
   "outputs": [
    {
     "data": {
      "image/png": "[encoded data removed]",
      "text/plain": [
       "<Figure size 432x288 with 1 Axes>"
      ]
     },
     "metadata": {
      "needs_background": "light"
     },
     "output_type": "display_data"
    }
   ],
   "source": [
    "plt.plot(LC.to_numpy(),'k.', ms=10)\n",
    "plt.minorticks_on()\n",
    "plt.xlabel('MJD (days)')\n",
    "plt.ylabel(b)\n",
    "plt.show()"
   ]
  },
  {
   "cell_type": "markdown",
   "id": "67ea71cd",
   "metadata": {},
   "source": [
    "## Ideas for the software project"
   ]
  },
  {
   "cell_type": "markdown",
   "id": "a620342f",
   "metadata": {},
   "source": [
    "- \"models.py\":\n",
    " * def load_dataset\n",
    " * def mean_mag\n",
    " * def median_mag\n",
    " * def num_outliers\n",
    " * def calc_period\n",
    "- \"view.py\"\n",
    " * def plot_unfolded\n",
    " * def plot_folded"
   ]
  },
  {
   "cell_type": "code",
   "execution_count": null,
   "id": "f7a7521d",
   "metadata": {},
   "outputs": [],
   "source": []
  }
 ],
 "metadata": {
  "kernelspec": {
   "display_name": "Python 3 (ipykernel)",
   "language": "python",
   "name": "python3"
  },
  "language_info": {
   "codemirror_mode": {
    "name": "ipython",
    "version": 3
   },
   "file_extension": ".py",
   "mimetype": "text/x-python",
   "name": "python",
   "nbconvert_exporter": "python",
   "pygments_lexer": "ipython3",
   "version": "3.9.7"
  }
 },
 "nbformat": 4,
 "nbformat_minor": 5
}
