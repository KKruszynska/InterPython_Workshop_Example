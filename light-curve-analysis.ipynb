{
 "cells": [
  {
   "cell_type": "markdown",
   "id": "d9b76051-958e-4103-9b98-a05778d340d1",
   "metadata": {},
   "source": [
    "Software for managing and analysing light curves of variable stars, coming from different surveys."
   ]
  },
  {
   "cell_type": "markdown",
   "id": "a71e8780-022a-4bd3-901c-5ccdf75bc929",
   "metadata": {},
   "source": [
    "#### Import libraries"
   ]
  },
  {
   "cell_type": "code",
   "execution_count": 1,
   "id": "30e4e043-f1a3-4773-aa2f-24f5f049dfe0",
   "metadata": {},
   "outputs": [],
   "source": [
    "import os\n",
    "import numpy as np\n",
    "import pandas as pd"
   ]
  },
  {
   "cell_type": "markdown",
   "id": "01f08b64-6d72-402b-b586-8bd0b148bd6d",
   "metadata": {},
   "source": [
    "#### Read the data"
   ]
  },
  {
   "cell_type": "code",
   "execution_count": 2,
   "id": "73cfb12f-d7e8-4091-88b4-6730fc20bf46",
   "metadata": {},
   "outputs": [
    {
     "data": {
      "text/plain": [
       "['kepler_RRLyr.csv', 'lsst_RRLyr.pkl', '.ipynb_checkpoints']"
      ]
     },
     "execution_count": 2,
     "metadata": {},
     "output_type": "execute_result"
    }
   ],
   "source": [
    "os.listdir('data')"
   ]
  },
  {
   "cell_type": "code",
   "execution_count": 3,
   "id": "9b5eb5c7-a616-4bc9-a157-da6c588422a0",
   "metadata": {},
   "outputs": [],
   "source": [
    "lcDatasets = {}\n",
    "lcDatasets['lsst'] = pd.read_pickle(os.path.join('data','lsst_RRLyr.pkl'))\n",
    "lcDatasets['kepler'] = pd.read_csv(os.path.join('data','kepler_RRLyr.csv'))"
   ]
  },
  {
   "cell_type": "code",
   "execution_count": null,
   "id": "a00a7ccb-3c96-4696-94c5-e93862aeb12e",
   "metadata": {},
   "outputs": [],
   "source": [
    "# Inspect datasets\n",
    "lcDatasets['lsst'].head()"
   ]
  },
  {
   "cell_type": "code",
   "execution_count": null,
   "id": "c92d2ea9-afef-45eb-b995-157acced78a1",
   "metadata": {},
   "outputs": [],
   "source": [
    "lcDatasets['kepler'].head()"
   ]
  },
  {
   "cell_type": "code",
   "execution_count": null,
   "id": "91f82988-5db9-4592-9165-8f118abc25fc",
   "metadata": {},
   "outputs": [],
   "source": [
    "lcDatasets['kepler'].columns"
   ]
  },
  {
   "cell_type": "code",
   "execution_count": null,
   "id": "5b89b156-b87f-4608-b5fd-068941175e0a",
   "metadata": {},
   "outputs": [],
   "source": []
  }
 ],
 "metadata": {
  "kernelspec": {
   "display_name": "Python 3 (ipykernel)",
   "language": "python",
   "name": "python3"
  },
  "language_info": {
   "codemirror_mode": {
    "name": "ipython",
    "version": 3
   },
   "file_extension": ".py",
   "mimetype": "text/x-python",
   "name": "python",
   "nbconvert_exporter": "python",
   "pygments_lexer": "ipython3",
   "version": "3.11.5"
  }
 },
 "nbformat": 4,
 "nbformat_minor": 5
}
